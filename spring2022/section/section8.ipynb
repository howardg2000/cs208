{
 "cells": [
  {
   "cell_type": "markdown",
   "source": "Material for this section was adapted from: https://docs.opendp.org/",
   "metadata": {
    "cell_id": "a23d8c8d-ada2-4206-a781-6e96fc39f0af",
    "deepnote_cell_type": "markdown",
    "deepnote_cell_height": 52.19999694824219
   }
  },
  {
   "cell_type": "markdown",
   "source": "# OpenDP Installation\n\nTo install the Python3 version of the OpenDP library, run the following command:\n```\npip3 install opendp\n```",
   "metadata": {
    "cell_id": "00001-f909b202-7d2c-4614-a808-a02bc037b5aa",
    "deepnote_cell_type": "markdown",
    "deepnote_cell_height": 175
   }
  },
  {
   "cell_type": "markdown",
   "source": "As was discussed in class, the code in the OpenDP library is still undergoing the vetting process. For code that has not passed through that process, it marked as `contrib`. To enable such code, we can use the following command:",
   "metadata": {
    "cell_id": "00002-519ffac6-1091-4321-a9b8-60dd8dbdb0b7",
    "deepnote_cell_type": "markdown",
    "deepnote_cell_height": 97
   }
  },
  {
   "cell_type": "code",
   "metadata": {
    "cell_id": "00003-9c10721d-1203-423d-8acd-b19aa42dc60a",
    "deepnote_to_be_reexecuted": false,
    "source_hash": "d51bbcbb",
    "execution_start": 1648556522528,
    "execution_millis": 4,
    "deepnote_cell_type": "code",
    "deepnote_cell_height": 98.80000305175781
   },
   "source": "from opendp.mod import binary_search, binary_search_param, enable_features\nfrom opendp.trans import *\nfrom opendp.meas import *\nfrom opendp.typing import *\nfrom opendp.accuracy import *\nenable_features(\"contrib\", \"floating-point\")",
   "execution_count": null,
   "outputs": []
  },
  {
   "cell_type": "markdown",
   "source": "Without the `contrib` flag, you will get the following error:\n```\nAssertionError: Attempted to use function that requires contrib, but contrib is not enabled. See https://github.com/opendp/opendp/discussions/304, then call enable_features(\"contrib\")\n```",
   "metadata": {
    "cell_id": "00004-ae701764-a5af-4177-aba0-7f877efd984d",
    "deepnote_cell_type": "markdown",
    "deepnote_cell_height": 148.60000610351562
   }
  },
  {
   "cell_type": "markdown",
   "source": "## Transformations\n\nA **transformation** is a non-DP abstraction defined by a function and a stability relation.\nThe function maps data from an input domain to an output domain. The stability relation maps data from an input metric to some output metric. We can view transformations as a basic unit of computation.\n",
   "metadata": {
    "cell_id": "00005-89f420c8-55cb-4b72-b661-8c147485000d",
    "deepnote_cell_type": "markdown",
    "deepnote_cell_height": 175.39999389648438
   }
  },
  {
   "cell_type": "code",
   "metadata": {
    "cell_id": "00006-7322e307-0fa0-48a8-967c-ea2ad13b0d74",
    "deepnote_to_be_reexecuted": false,
    "source_hash": "71f5a980",
    "execution_start": 1648555737441,
    "execution_millis": 251,
    "deepnote_cell_type": "code",
    "deepnote_cell_height": 587.7999877929688
   },
   "source": "# Exercise:\n# Write a transformation to compute the variance of a dataset.\n# Test on a bunch of data.\n\ncompute_variance = lambda x : np.sum((x - np.mean(x))**2)/(len(x)-1)\n\nfrom opendp.trans import make_sized_bounded_variance\nfrom opendp.mod import Transformation\nimport numpy as np\n\nfor data in [[1., 2., 3., 4., 5., 5., 5., 5.],\n             [1., 1., 3., 4],\n             [1., 10.]]:\n    n = len(data)\n\n    # create an instance of a Transformation using a constructor from the trans module\n    var: Transformation = make_sized_bounded_variance(n, (0., 10.))\n\n    # invoke the transformation (invoke and __call__ are equivalent)\n    print(var(data))\n\n    print(\"Variance Equal? \", compute_variance(data) == var.invoke(data))",
   "execution_count": null,
   "outputs": [
    {
     "name": "stdout",
     "text": "2.5\nVariance Equal?  True\n2.25\nVariance Equal?  True\n40.5\nVariance Equal?  True\n",
     "output_type": "stream"
    }
   ]
  },
  {
   "cell_type": "code",
   "metadata": {
    "cell_id": "a38456787278423c9a523626b59c855c",
    "tags": [],
    "deepnote_to_be_reexecuted": false,
    "source_hash": "ca849ed4",
    "execution_start": 1648556526547,
    "execution_millis": 31,
    "deepnote_cell_type": "code"
   },
   "source": "# Exercise: \n# Find the L2 sensitivity of a histogram query, when individuals may influence up to three rows.\n\nhistogram = make_count_by_categories(categories=[\"a\"], MO=L2Distance[float])\n\nbinary_search(\n    lambda d_out: histogram.check(3, d_out), \n    bounds = (0., 100.))",
   "execution_count": null,
   "outputs": [
    {
     "output_type": "execute_result",
     "execution_count": 6,
     "data": {
      "text/plain": "3.0000000027939677"
     },
     "metadata": {}
    }
   ]
  },
  {
   "cell_type": "markdown",
   "source": "## Measurements\n\nA **measurement** is a DP abstraction defined by a function and a privacy relation.\nThe function is responsible for performing the DP release. The privacy relation maps data from an input metric to some output measure.",
   "metadata": {
    "cell_id": "00007-31da5abc-f809-4aed-b7dd-c78f4363040f",
    "deepnote_cell_type": "markdown",
    "deepnote_cell_height": 153
   }
  },
  {
   "cell_type": "code",
   "metadata": {
    "cell_id": "00008-d3f37c01-00d9-4de6-a8d0-2187b33a0bbc",
    "deepnote_to_be_reexecuted": false,
    "source_hash": "df877789",
    "execution_start": 1648501975629,
    "execution_millis": 549,
    "deepnote_cell_type": "code",
    "deepnote_cell_height": 944.7999877929688
   },
   "source": "# check(d_in, d_out, *, debug=False)\n#\n# Also works on non-private transformations and relations.\n#\n# Check if the measurement satisfies the privacy relation at d_in, d_out.\n# d_in – Distance in terms of the input metric.\n# d_out – Distance in terms of the output measure.\n# Returns True iff a release is differentially private at d_in, d_out.\n\nfrom opendp.mod import Measurement, enable_features, binary_search_param\nfrom opendp.meas import make_base_geometric, make_base_laplace\nfrom opendp.trans import make_count\n\nenable_features(\"contrib\")\nenable_features(\"floating-point\")\n\n# create an instance of Measurement using a constructor from the meas module\nbase_geometric: Measurement = make_base_geometric(scale=2.)\n\n# invoke the measurement (invoke and __call__ are equivalent)\nprint(base_geometric.invoke(100))  \nprint(base_geometric(100))        \n\n# check the measurement's relation at\n# (1, 0.5): (AbsoluteDistance<u32>, MaxDivergence)\nassert base_geometric.check(1, 0.5)\n\n# chain with a transformation from the trans module\nchained = (\n    make_count(TIA=int) >>\n    base_geometric\n)\n\n# the resulting measurement has the same features\nprint(chained([1, 2, 3]))\n# check the chained measurement's relation at\n#     (1, 0.5): (SubstituteDistance, MaxDivergence)\nassert chained.check(1, 0.5)\n\n# Exercise:\n# What is the noise scale of the Laplace mechanism mechanism with an input sensitivity of 4\n# (measured in absolute distance) and privacy utilization of epsilon=0.1?\nscale = binary_search_param(make_base_laplace, d_in=4., d_out=0.1)\nprint(scale)",
   "execution_count": null,
   "outputs": [
    {
     "name": "stdout",
     "text": "102\n102\n3\n40.00000000745057\n",
     "output_type": "stream"
    }
   ]
  },
  {
   "cell_type": "code",
   "metadata": {
    "cell_id": "00009-b0af3c81-a392-422b-a9f1-ec4e67cf7c74",
    "deepnote_to_be_reexecuted": false,
    "source_hash": "c9f1fb97",
    "execution_start": 1648501976185,
    "execution_millis": 25,
    "deepnote_cell_type": "code",
    "deepnote_cell_height": 473
   },
   "source": "# Exercise:\n# Create a transformation and chain it so it can handle the following case:\n# Data is fed in new lines where some newlines might not have data (in which case, impute 10)\n# and count the number of atomic items\n\n# chain with more transformations from the trans module\nfrom opendp.trans import make_split_lines, make_cast, make_clamp, make_count_distinct, make_count, make_impute_constant, make_bounded_resize\n\ncount: Transformation = make_count(TIA=int)\n\nchained_count = (\n    make_split_lines() >>\n    make_cast(TIA=str, TOA=int) >>\n    make_impute_constant(constant=10) >>\n    count\n)\n\nprint(chained_count(\"1.0\\n\\n2.0\\n\\n15.0\\n10.0\\n1.0\\n\\n1.0\\n3.0\"))\n\nprint(\"Count == 10?\", chained_count(\"1.0\\n\\n2.0\\n\\n15.0\\n10.0\\n1.0\\n\\n1.0\\n3.0\") == 10)",
   "execution_count": null,
   "outputs": [
    {
     "name": "stdout",
     "text": "10\nCount == 10? True\n",
     "output_type": "stream"
    }
   ]
  },
  {
   "cell_type": "markdown",
   "source": "Also review material from:   \nhttps://github.com/opendp/cs208/blob/main/spring2022/examples/wk8_opendp.ipynb",
   "metadata": {
    "cell_id": "00010-fa3c1753-4693-46cd-ab58-aa34431bd146",
    "deepnote_cell_type": "markdown",
    "deepnote_cell_height": 74.60000610351562
   }
  },
  {
   "cell_type": "markdown",
   "source": "## Errors",
   "metadata": {
    "cell_id": "1be64dcd61984475a4e124f2cf9e63a1",
    "tags": [],
    "is_collapsed": false,
    "deepnote_cell_type": "text-cell-h2"
   }
  },
  {
   "cell_type": "markdown",
   "source": "Example 1: suppose the system returns an overflow error if at any point in a summation, the sum exceeds max_val. Using this, you can get the exact answer to the a count of elements that satisfy some predicate on a dataset",
   "metadata": {
    "cell_id": "6867d558eb044e22bd5f879b24d94762",
    "tags": [],
    "is_collapsed": false,
    "deepnote_cell_type": "text-cell-p"
   }
  },
  {
   "cell_type": "markdown",
   "source": "1. Let q(x) return the 'value' associated with elements in x that satisfy some predicate p. Let sum_{C, q}(x) = sum(clamp(q(x), C)) for some constant C",
   "metadata": {
    "cell_id": "36ad523498e945b7a955a35e40134134",
    "tags": [],
    "is_collapsed": false,
    "deepnote_cell_type": "text-cell-p"
   }
  },
  {
   "cell_type": "markdown",
   "source": "2.  Perform a binary search to find the smallest value of C such that sum_{C,q}(x) returns an overflow error.",
   "metadata": {
    "cell_id": "fd61b65827ca4cb991a14aa916813d64",
    "tags": [],
    "is_collapsed": false,
    "deepnote_cell_type": "text-cell-p"
   }
  },
  {
   "cell_type": "markdown",
   "source": "3. Because we know the&nbsp;max_val&nbsp;at which overflow occurs, we can just do&nbsp;max_val/C to get the approximate number of elements in x that satisfy the predicate p.",
   "metadata": {
    "cell_id": "02e14c4b793f40c0ac83c540a67ce1a1",
    "tags": [],
    "is_collapsed": false,
    "deepnote_cell_type": "text-cell-p"
   }
  },
  {
   "cell_type": "markdown",
   "source": "Example 2: system returns an error if the user-entered upper bound &lt; lower bound. Does this preserve DP? Why is this different from the previous example?",
   "metadata": {
    "cell_id": "562a3755cd964604885614669566667d",
    "tags": [],
    "is_collapsed": false,
    "deepnote_cell_type": "text-cell-p"
   }
  },
  {
   "cell_type": "markdown",
   "source": "Issues with errors rely on the errors depending on the dataset, rather than on values that are known to the data analyst.",
   "metadata": {
    "cell_id": "08ae774bbb354dc29045e9f597612812",
    "tags": [],
    "is_collapsed": false,
    "deepnote_cell_type": "text-cell-p"
   }
  },
  {
   "cell_type": "markdown",
   "source": "<a style='text-decoration:none;line-height:16px;display:flex;color:#5B5B62;padding:10px;justify-content:end;' href='https://deepnote.com?utm_source=created-in-deepnote-cell&projectId=0df97151-1c38-49bc-a037-2a058b96fd82' target=\"_blank\">\n<img alt='Created in deepnote.com' style='display:inline;max-height:16px;margin:0px;margin-right:7.5px;' src='data:image/svg+xml;base64,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' > </img>\nCreated in <span style='font-weight:600;margin-left:4px;'>Deepnote</span></a>",
   "metadata": {
    "tags": [],
    "created_in_deepnote_cell": true,
    "deepnote_cell_type": "markdown"
   }
  }
 ],
 "nbformat": 4,
 "nbformat_minor": 2,
 "metadata": {
  "deepnote_notebook_id": "f194b341-d84d-401e-bb69-cad41e09c695",
  "kernelspec": {
   "display_name": "Python 3",
   "language": "python",
   "name": "python3"
  },
  "language_info": {
   "codemirror_mode": {
    "name": "ipython",
    "version": 3
   },
   "file_extension": ".py",
   "mimetype": "text/x-python",
   "name": "python",
   "nbconvert_exporter": "python",
   "pygments_lexer": "ipython3",
   "version": "3.7.3"
  },
  "deepnote": {},
  "deepnote_execution_queue": []
 }
}